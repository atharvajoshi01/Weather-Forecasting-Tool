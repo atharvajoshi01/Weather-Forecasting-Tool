{
 "cells": [
  {
   "cell_type": "code",
   "execution_count": 1,
   "id": "c919f233",
   "metadata": {},
   "outputs": [],
   "source": [
    "import requests\n",
    "import json"
   ]
  },
  {
   "cell_type": "code",
   "execution_count": 2,
   "id": "1b7662fb",
   "metadata": {},
   "outputs": [],
   "source": [
    "API_KEY = \"3559ff7d717f1beb8bee79a08b89c53f\"  # Replace \"YOUR_API_KEY\" with your actual OpenWeatherMap API key\n",
    "BASE_URL = \"http://api.openweathermap.org/data/2.5/weather\""
   ]
  },
  {
   "cell_type": "code",
   "execution_count": 4,
   "id": "19087c83",
   "metadata": {},
   "outputs": [
    {
     "name": "stdout",
     "output_type": "stream",
     "text": [
      "Enter city name: Mumbai\n",
      "Temperature: 27.99°C\n",
      "Humidity: 89%\n",
      "Description: haze\n"
     ]
    }
   ],
   "source": [
    "def get_weather(city):\n",
    "    params = {\n",
    "        \"q\": city,\n",
    "        \"appid\": API_KEY,\n",
    "        \"units\": \"metric\"\n",
    "    }\n",
    "    response = requests.get(BASE_URL, params=params)\n",
    "    if response.status_code == 200:\n",
    "        return response.json()\n",
    "    else:\n",
    "        return None\n",
    "\n",
    "def display_weather(weather_data):\n",
    "    if weather_data is None:\n",
    "        print(\"Failed to fetch weather data.\")\n",
    "    else:\n",
    "        temperature = weather_data[\"main\"][\"temp\"]\n",
    "        humidity = weather_data[\"main\"][\"humidity\"]\n",
    "        description = weather_data[\"weather\"][0][\"description\"]\n",
    "\n",
    "        print(f\"Temperature: {temperature}°C\")\n",
    "        print(f\"Humidity: {humidity}%\")\n",
    "        print(f\"Description: {description}\")\n",
    "\n",
    "city = input(\"Enter city name: \")\n",
    "weather_data = get_weather(city)\n",
    "display_weather(weather_data)"
   ]
  },
  {
   "cell_type": "code",
   "execution_count": null,
   "id": "f1dbcbb4",
   "metadata": {},
   "outputs": [],
   "source": []
  }
 ],
 "metadata": {
  "kernelspec": {
   "display_name": "Python 3 (ipykernel)",
   "language": "python",
   "name": "python3"
  },
  "language_info": {
   "codemirror_mode": {
    "name": "ipython",
    "version": 3
   },
   "file_extension": ".py",
   "mimetype": "text/x-python",
   "name": "python",
   "nbconvert_exporter": "python",
   "pygments_lexer": "ipython3",
   "version": "3.9.13"
  }
 },
 "nbformat": 4,
 "nbformat_minor": 5
}
